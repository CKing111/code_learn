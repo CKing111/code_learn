{
 "cells": [
  {
   "cell_type": "markdown",
   "metadata": {},
   "source": [
    "# [剑指 Offer 30. 包含min函数的栈](https://leetcode-cn.com/problems/bao-han-minhan-shu-de-zhan-lcof/)\n",
    "\n",
    "定义栈的数据结构，请在该类型中实现一个能够得到栈的最小元素的 min 函数在该栈中，调用 min、push 及 pop 的时间复杂度都是 O(1)。\n",
    "\n",
    "示例:\n",
    "\n",
    "MinStack minStack = new MinStack();\n",
    "\n",
    "minStack.push(-2);\n",
    "\n",
    "minStack.push(0);\n",
    "\n",
    "minStack.push(-3);\n",
    "\n",
    "minStack.min();   --> 返回 -3.\n",
    "\n",
    "minStack.pop();\n",
    "\n",
    "minStack.top();      --> 返回 0.\n",
    "\n",
    "minStack.min();   --> 返回 -2.\n",
    "\n",
    "提示：\n",
    "\n",
    "各函数的调用总次数不超过 20000 次\n"
   ]
  },
  {
   "cell_type": "markdown",
   "metadata": {},
   "source": [
    "##  题目分析\n",
    "\n",
    "* 解题思路：\n",
    "\n",
    "普通栈的 push() 和 pop() 函数的复杂度为 O(1)O(1) ；而获取栈最小值 min() 函数需要遍历整个栈，复杂度为 O(N)O(N) 。\n",
    "\n",
    "\n",
    "* 本题难点： \n",
    "\n",
    "将 min() 函数复杂度降为 O(1)O(1) ，可通过建立辅助栈实现；\n",
    "\n",
    "数据栈 AA ： 栈 AA 用于存储所有元素，保证入栈 push() 函数、出栈 pop() 函数、获取栈顶 top() 函数的正常逻辑。\n",
    "\n",
    "辅助栈 BB ： 栈 BB 中存储栈 AA 中所有 非严格降序 的元素，则栈 AA 中的最小元素始终对应栈 BB 的栈顶元素，即 min() 函数只需返回栈 BB 的栈顶元素即可。\n",
    "\n",
    "因此，只需设法维护好 栈 BB 的元素，使其保持非严格降序，即可实现 min() 函数的 O(1)O(1) 复杂度\n",
    "\n",
    "* 函数设计：\n",
    "\n",
    "push(x) 函数： 重点为保持栈 BB 的元素是 非严格降序 的。\n",
    "\n",
    "(将 xx 压入栈 AA （即 A.add(x) ）；\n",
    "若 ① 栈 BB 为空 或 ② xx 小于等于 栈 BB 的栈顶元素，则将 xx 压入栈 BB （即 B.add(x) ）。)\n",
    "\n",
    "pop() 函数： 重点为保持栈 A, BA,B 的 元素一致性 。\n",
    "\n",
    "(执行栈 AA 出栈（即 A.pop() ），将出栈元素记为 yy ；\n",
    "若 yy 等于栈 BB 的栈顶元素，则执行栈 B 出栈（即 B.pop() ）。)\n",
    "\n",
    "top() 函数： 直接返回栈 AA 的栈顶元素即可，即返回 A.peek() 。\n",
    "\n",
    "min() 函数： 直接返回栈 BB 的栈顶元素即可，即返回 B.peek() 。\n",
    "\n",
    "\n"
   ]
  },
  {
   "cell_type": "code",
   "execution_count": null,
   "metadata": {},
   "outputs": [],
   "source": [
    "class MinStack:\n",
    "    #定义主栈辅助栈\n",
    "    def __init__(self):\n",
    "        self.A, self.B = [], []\n",
    "\n",
    "    #定义压栈函数\n",
    "    #在满足条件时将value压入辅助栈\n",
    "    #保证辅助栈每次压入value为当前最小值\n",
    "    def push(self, x: int) -> None:\n",
    "        self.A.append(x)\n",
    "        if not self.B or self.B[-1] >= x:   #若栈B为空或者value 大于等于push值，压入\n",
    "            self.B.append(x)\n",
    "\n",
    "    #定义出栈函数\n",
    "    #执行栈A出栈时，若两栈value相等时，同时出栈，保持同步性\n",
    "    def pop(self) -> None:\n",
    "        if self.A.pop() == self.B[-1]:\n",
    "            self.B.pop()\n",
    "\n",
    "    #定义栈头函数\n",
    "    def top(self) -> int:\n",
    "        return self.A[-1]\n",
    "\n",
    "    #定义栈最小值函数\n",
    "    #通过定义的辅助栈，我们可以保证辅助栈的头元素时刻为整个栈元素的最小值\n",
    "    def min(self) -> int:\n",
    "        return self.B[-1]\n",
    "\n"
   ]
  }
 ],
 "metadata": {
  "interpreter": {
   "hash": "78c1adab1661e2ba4e82783cebd9f33334430670c78b2bdfcbea4579945eb696"
  },
  "kernelspec": {
   "display_name": "Python 3.6.13 64-bit ('torch182': conda)",
   "language": "python",
   "name": "python3"
  },
  "language_info": {
   "name": "python",
   "version": "3.6.13"
  },
  "orig_nbformat": 4
 },
 "nbformat": 4,
 "nbformat_minor": 2
}
