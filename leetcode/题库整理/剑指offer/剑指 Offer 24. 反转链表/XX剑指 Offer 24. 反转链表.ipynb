{
 "cells": [
  {
   "cell_type": "markdown",
   "metadata": {},
   "source": [
    "[剑指 Offer 24. 反转链表](https://leetcode-cn.com/problems/fan-zhuan-lian-biao-lcof/)\n",
    "\n",
    "# 题目描述\n",
    "\n",
    "定义一个函数，输入一个链表的头节点，反转该链表并输出反转后链表的头节点。\n",
    "\n",
    " \n",
    "\n",
    "示例:\n",
    "\n",
    "输入: 1->2->3->4->5->NULL\n",
    "\n",
    "输出: 5->4->3->2->1->NULL\n",
    " \n",
    "\n",
    "限制：\n",
    "\n",
    "0 <= 节点个数 <= 5000\n"
   ]
  },
  {
   "cell_type": "markdown",
   "metadata": {},
   "source": [
    "# 题目解析\n"
   ]
  },
  {
   "cell_type": "code",
   "execution_count": null,
   "metadata": {},
   "outputs": [],
   "source": [
    "# Definition for singly-linked list.\n",
    "class ListNode:\n",
    "    def __init__(self, x):\n",
    "        self.val = x\n",
    "        self.next = None # 指针\n",
    "\n",
    "# 第一个想到的方法是这样的：\n",
    "\n",
    "# 先把链表的所有值存入列表中\n",
    "# 通过python切片操作翻转列表\n",
    "# 遍历翻转后的列表，构造链表\n",
    "class Solution:\n",
    "    def reverseList(self, head: ListNode) -> ListNode: # ->: 提示参数类型\n",
    "        res = []\n",
    "        while head:\n",
    "            res.append(head.val)\n",
    "            head = head.next\n",
    "        res = res[::-1]     #切片翻转\n",
    "                    # [: : -n]意思是先将原列表的第0项到结尾倒叙排列（并不改变原列表），\n",
    "                    # 再取新列表中第0项（从0数起）到最后一项，每隔n个值（从1数起）取一次值。包含第1次取值，包含最后一次取值。\n",
    "        node = ListNode(0)  #哑节点\n",
    "                # 在链表的操作中，添加一个哑节点(dummy),让它的指针指向链表的头节点。\n",
    "                # 好处：\n",
    "                # 省略头节点为空时的情况的判断；\n",
    "                # 头节点和其他节点进行同样的操作时，由于头节点没有前一个节点，\n",
    "                #   需要对这种情况进行单独判断，但加入虚拟节点以后，头节点就可以当作普通节点看待。\n",
    "        p = node\n",
    "        # 构造链表\n",
    "        for num in res:\n",
    "            p.next = ListNode(num)\n",
    "            p = p.next\n",
    "        return node.next"
   ]
  },
  {
   "cell_type": "code",
   "execution_count": null,
   "metadata": {},
   "outputs": [],
   "source": [
    "#然后，稍微改进了一丢丢，将列表想成是一个栈，把第2步中通过python切片操作翻转列表改成了列表的pop操作\n",
    "class Solution:\n",
    "    def reverseList(self, head: ListNode) -> ListNode:\n",
    "        res = []\n",
    "        while head:\n",
    "            res.append(head.val)\n",
    "            head = head.next  # 指向下一个\n",
    "        node = ListNode(0)  # 声明哑结点\n",
    "        p = node    #哑节点赋值给p\n",
    "        while res:\n",
    "            p.next = ListNode(res.pop())    #由哑节点开始，构建链表\n",
    "            p = p.next\n",
    "        return node.next    #最后返回res头元素指针"
   ]
  },
  {
   "cell_type": "markdown",
   "metadata": {},
   "source": [
    "# 方法一：迭代（双指针）https://leetcode-cn.com/problems/fan-zhuan-lian-biao-lcof/solution/jian-zhi-offer-24-fan-zhuan-lian-biao-die-dai-di-2/\n",
    "\n",
    "考虑遍历链表，并在访问各节点时修改 next 引用指向，算法流程见注释。\n",
    "\n",
    "复杂度分析：\n",
    "\n",
    "时间复杂度 O(N)O(N) ： 遍历链表使用线性大小时间。\n",
    "\n",
    "空间复杂度 O(1)O(1) ： 变量 pre 和 cur 使用常数大小额外空间。\n",
    "\n"
   ]
  },
  {
   "cell_type": "code",
   "execution_count": null,
   "metadata": {},
   "outputs": [],
   "source": [
    "# 看了大佬的解析，学习了一下双指针的解法\n",
    "\n",
    "# 设置两个指针，cur 指向链表头节点，pre 指向空\n",
    "# 暂存 cur 的后继节点，tmp = cur.next\n",
    "# 将 cur.next 反指向pre\n",
    "# 将 pre 指向 cur，即 pre 指针后移\n",
    "# 将 cur 指向 2 中暂存的 tmp 节点，即 cur 指针后移 循环 第2 到 5 步，直到 cur 遍历完整个链表\n",
    "\n",
    "class Solution:\n",
    "    def reverseList(self, head: ListNode) -> ListNode:\n",
    "        cur, pre = head, None\n",
    "        while cur:\n",
    "            tmp = cur.next # 暂存后继节点 cur.next\n",
    "            cur.next = pre # 修改 next 引用指向，首轮循环next指向null，次轮后反向指cur的上一位，实现翻转指针\n",
    "            pre = cur      # pre 暂存 cur\n",
    "            cur = tmp      # cur 访问下一节点，实现遍历， 此处cur.next已经指向了pre\n",
    "        return pre      #返回迭代完成后的指针，此时为原链表的尾元素实现翻转\n",
    "\n",
    "#简化：平行赋值\n",
    "class Solution:\n",
    "    def reverseList(self, head: ListNode) -> ListNode:\n",
    "        cur, pre = head, None\n",
    "        while cur:\n",
    "            cur.next, pre, cur = pre, cur, cur.next #省略tmp，一一对应\n",
    "        return pre\n",
    "\n"
   ]
  },
  {
   "cell_type": "markdown",
   "metadata": {},
   "source": [
    "# 方法二：递归\n",
    "\n",
    "考虑使用递归法遍历链表，当越过尾节点后终止递归，在回溯时修改各节点的 next 引用指向。\n",
    "\n",
    "**recur(cur, pre) 递归函数：**\n",
    "\n",
    "终止条件：当 cur 为空，则返回尾节点 pre （即反转链表的头节点）；\n",
    "\n",
    "递归后继节点，记录返回值（即反转链表的头节点）为 res ；\n",
    "\n",
    "修改当前节点 cur 引用指向前驱节点 pre ；\n",
    "\n",
    "返回反转链表的头节点 res ；\n",
    "\n",
    "\n",
    "**reverseList(head) 函数：**\n",
    "\n",
    "调用并返回 recur(head, null) 。传入 null 是因为反转链表后， head 节点指向 null ；\n",
    "\n",
    "\n",
    "**复杂度分析：**\n",
    "\n",
    "时间复杂度 O(N)O(N) ： 遍历链表使用线性大小时间。\n",
    "\n",
    "\n",
    "空间复杂度 O(N)O(N) ： 遍历链表的递归深度达到 NN ，系统使用 O(N)O(N) 大小额外空间\n",
    "\n"
   ]
  },
  {
   "cell_type": "code",
   "execution_count": null,
   "metadata": {},
   "outputs": [],
   "source": [
    "\n",
    "class Solution:\n",
    "    def reverseList(self, head: ListNode) -> ListNode:\n",
    "        def recur(cur, pre):        #递归函数，两个两个的递归，当结束递归时返回最后一次的当前值，即最后一个元素以及最终返回值\n",
    "            if not cur: return pre     # 终止条件，指针非空\n",
    "            res = recur(cur.next, cur) # 递归后继节点，（后一个，当前）\n",
    "            cur.next = pre             # 修改节点引用指向\n",
    "            return res                 # 返回反转链表的头节点\n",
    "        \n",
    "        return recur(head, None)       # 调用递归并返回"
   ]
  }
 ],
 "metadata": {
  "kernelspec": {
   "display_name": "Python 3.8.0 64-bit (system)",
   "language": "python",
   "name": "python3"
  },
  "language_info": {
   "name": "python",
   "version": "3.8.0"
  },
  "orig_nbformat": 4,
  "vscode": {
   "interpreter": {
    "hash": "cb6c0ba92ee423ea8e5b8c70972eeb637de3bda3dd430d580cae27a5af55b427"
   }
  }
 },
 "nbformat": 4,
 "nbformat_minor": 2
}
