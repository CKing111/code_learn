{
 "cells": [
  {
   "cell_type": "code",
   "execution_count": null,
   "metadata": {},
   "outputs": [],
   "source": []
  },
  {
   "cell_type": "markdown",
   "metadata": {},
   "source": [
    "# 链表学习\n"
   ]
  },
  {
   "cell_type": "markdown",
   "metadata": {},
   "source": [
    "## 循环单链表（circular linkedlist）\n",
    "[参考1](https://www.jianshu.com/p/a37f26a2e453)\n",
    "\n",
    "是首尾相连的一种单链表，即将最后一个结点的空指针改为指向头结点或第一个结点的形成一个环型，最后一个结点称为尾指针。判断单链表为空的条件是head->next==NULL，而判断循环单链表为空的条件是head->next==head。访问第一个结点即rear->next->next。\n",
    "如果将两个循环单链表（LA，LB）合成一个链表，只需将一个表的表尾和另一个表的表头连接即可。具体步骤为：\n",
    "    1，将LA->next = LB->next->next; 第一个结点。\n",
    "    2，释放LB的头结点，free(LB->next);\n",
    "    3, 将LB的表尾与LA的表头相连，LB->next = LA->next\n",
    "\n",
    "```\n",
    "LinkList Link(LinkList head1,LinkList head2){\n",
    "    ListNode *p,*q;\n",
    "    p = head1;//p指向1头结点\n",
    "    while(p->next !=head1){//循环使指针p指向链表的最后一个结点\n",
    "        p = p->next;\n",
    "    }\n",
    "    q = head2;\n",
    "    while(q->next != head2){//同上\n",
    " \n",
    "        q = q->next;\n",
    "    }\n",
    "    p->next = head2->next;//将第一个链表的尾端连接第二个链表的第一个结点\n",
    "    \n",
    "    q->next = head1; // 将第二个链表的尾端连接到第一个连接的第一个结点\n",
    "    \n",
    "    return head1;\n",
    "}\n",
    "\n",
    "```"
   ]
  },
  {
   "cell_type": "code",
   "execution_count": null,
   "metadata": {},
   "outputs": [],
   "source": []
  }
 ],
 "metadata": {
  "language_info": {
   "name": "python"
  },
  "orig_nbformat": 4
 },
 "nbformat": 4,
 "nbformat_minor": 2
}
