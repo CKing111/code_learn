{
 "cells": [
  {
   "cell_type": "markdown",
   "metadata": {},
   "source": [
    "https://blog.csdn.net/qq_35405379/article/details/103755803?spm=1001.2101.3001.6650.4&utm_medium=distribute.pc_relevant.none-task-blog-2%7Edefault%7ECTRLIST%7ERate-4-103755803-blog-86221246.pc_relevant_multi_platform_whitelistv4&depth_1-utm_source=distribute.pc_relevant.none-task-blog-2%7Edefault%7ECTRLIST%7ERate-4-103755803-blog-86221246.pc_relevant_multi_platform_whitelistv4&utm_relevant_index=5"
   ]
  },
  {
   "cell_type": "markdown",
   "metadata": {},
   "source": [
    "![](images/聚类对比1.png)"
   ]
  },
  {
   "cell_type": "code",
   "execution_count": null,
   "metadata": {},
   "outputs": [],
   "source": [
    "# k均值聚类\n",
    "def KMeans(dataSet, k):\n",
    "    m = np.shape(dataSet)[0]  # 行的数目\n",
    "    # 第一列存样本属于哪一簇\n",
    "    # 第二列存样本的到簇的中心点的误差\n",
    "    clusterAssment = np.mat(np.zeros((m, 2)))\n",
    "    clusterChange = True\n",
    "    # 第1步 初始化centroids\n",
    "    centroids = randCent(dataSet, k)\n",
    "    while clusterChange:\n",
    "        clusterChange = False\n",
    "        # 遍历所有的样本（行数）\n",
    "        for i in range(m):\n",
    "            minDist = 100000.0\n",
    "            minIndex = -1\n",
    "            # 遍历所有的质心\n",
    "            # 第2步 找出最近的质心\n",
    "            for j in range(k):\n",
    "                # 计算该样本到质心的欧式距离\n",
    "                distance = distEclud(centroids[j, :], dataSet[i, :])\n",
    "                if distance < minDist:\n",
    "                    minDist = distance\n",
    "                    minIndex = j\n",
    "            # 第 3 步：更新每一行样本所属的簇\n",
    "            if clusterAssment[i, 0] != minIndex:\n",
    "                clusterChange = True\n",
    "                clusterAssment[i, :] = minIndex, minDist ** 2\n",
    "        # 第 4 步：更新质心\n",
    "        for j in range(k):\n",
    "            pointsInCluster = dataSet[np.nonzero(clusterAssment[:, 0].A == j)[0]]  # 获取簇类所有的点\n",
    "            centroids[j, :] = np.mean(pointsInCluster, axis=0)  # 对矩阵的行求均值\n",
    "    print(\"Congratulations,cluster complete!\")\n",
    "    return centroids, clusterAssment\n"
   ]
  },
  {
   "cell_type": "code",
   "execution_count": null,
   "metadata": {},
   "outputs": [],
   "source": [
    "def dbscan(X, eps, min_Pts):\n",
    "    k = -1\n",
    "    NeighborPts = []  # array,某点领域内的对象\n",
    "    Ner_NeighborPts = []\n",
    "    fil = []  # 初始时已访问对象列表为空\n",
    "    gama = [x for x in range(len(X))]  # 初始时将所有点标记为未访问\n",
    "    cluster = [-1 for y in range(len(X))]\n",
    "    while len(gama) > 0:\n",
    "        j = random.choice(gama)\n",
    "        gama.remove(j)  # 未访问列表中移除\n",
    "        fil.append(j)  # 添加入访问列表\n",
    "        NeighborPts = findNeighbor(j, X, eps)\n",
    "        if len(NeighborPts) < min_Pts:\n",
    "            cluster[j] = -1  # 标记为噪声点\n",
    "        else:\n",
    "            k = k + 1\n",
    "            cluster[j] = k\n",
    "            for i in NeighborPts:\n",
    "                if i not in fil:\n",
    "                    gama.remove(i)\n",
    "                    fil.append(i)\n",
    "                    Ner_NeighborPts = findNeighbor(i, X, eps)\n",
    "                    if len(Ner_NeighborPts) >= min_Pts:\n",
    "                        for a in Ner_NeighborPts:\n",
    "                            if a not in NeighborPts:\n",
    "                                NeighborPts.append(a)\n",
    "                    if (cluster[i] == -1):\n",
    "                        cluster[i] = k\n",
    "    return cluster\n"
   ]
  }
 ],
 "metadata": {
  "kernelspec": {
   "display_name": "Python 3.8.13 ('py38')",
   "language": "python",
   "name": "python3"
  },
  "language_info": {
   "name": "python",
   "version": "3.8.13"
  },
  "orig_nbformat": 4,
  "vscode": {
   "interpreter": {
    "hash": "74290bd8a27fa3e369da101d4e7dd0ef274a6e2bcb0d1096436e9f1e06440718"
   }
  }
 },
 "nbformat": 4,
 "nbformat_minor": 2
}
