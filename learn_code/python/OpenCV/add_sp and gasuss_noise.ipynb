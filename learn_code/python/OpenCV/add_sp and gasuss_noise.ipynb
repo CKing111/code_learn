{
 "cells": [
  {
   "cell_type": "code",
   "execution_count": 2,
   "metadata": {},
   "outputs": [],
   "source": [
    "import numpy as np\n",
    "import random\n",
    "import cv2\n",
    "\n",
    "def sp_noise(image,prob):\n",
    "    '''\n",
    "    添加椒盐噪声\n",
    "    prob:噪声比例 \n",
    "    '''\n",
    "    output = np.zeros(image.shape,np.uint8)\n",
    "    thres = 1 - prob \n",
    "    for i in range(image.shape[0]):\n",
    "        for j in range(image.shape[1]):\n",
    "            rdn = random.random()\n",
    "            if rdn < prob:\n",
    "                output[i][j] = 0\n",
    "            elif rdn > thres:\n",
    "                output[i][j] = 0\n",
    "            else:\n",
    "                output[i][j] = image[i][j]\n",
    "    return output\n",
    "\n",
    "\n",
    "def gasuss_noise(image, mean=0, var=0.001):\n",
    "    ''' \n",
    "        添加高斯噪声\n",
    "        mean : 均值 \n",
    "        var : 方差\n",
    "    '''\n",
    "    image = np.array(image/255, dtype=float)\n",
    "    noise = np.random.normal(mean, var ** 0.5, image.shape)\n",
    "    out = image + noise\n",
    "    if out.min() < 0:\n",
    "        low_clip = -1.\n",
    "    else:\n",
    "        low_clip = 0.\n",
    "    out = np.clip(out, low_clip, 1.0)\n",
    "    out = np.uint8(out*255)\n",
    "    #cv.imshow(\"gasuss\", out)\n",
    "    return out\n"
   ]
  },
  {
   "cell_type": "code",
   "execution_count": null,
   "metadata": {},
   "outputs": [],
   "source": [
    "import cv2\n",
    "import numpy as np\n",
    "\n",
    "img = cv2.imread('j.png')\n",
    "noise = sp_noise(img,0.03) #增加椒盐噪声\n",
    "# nosie = gasuss_noise(img,0,0.01) #增加高斯噪声\n",
    "image = img + noise\n",
    "\n",
    "cv2.imshow('image',image)\n",
    "cv2.waitKey(0)&0xFF\n",
    "cv2.imwrite('j_sp_noise.jpg',image)\n",
    "cv2.destroyAllWindows()"
   ]
  }
 ],
 "metadata": {
  "kernelspec": {
   "display_name": "Python 3",
   "language": "python",
   "name": "python3"
  },
  "language_info": {
   "codemirror_mode": {
    "name": "ipython",
    "version": 3
   },
   "file_extension": ".py",
   "mimetype": "text/x-python",
   "name": "python",
   "nbconvert_exporter": "python",
   "pygments_lexer": "ipython3",
   "version": "3.6.9"
  }
 },
 "nbformat": 4,
 "nbformat_minor": 4
}
