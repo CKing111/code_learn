#%%
import cv2
import numpy as  np 
from matplotlib import pyplot as plt 

img = cv2.imread('messi1.jpg',0)

# cv2.imshow('img',img)
# cv2.waitKey(0)&oFF==ord('q')
# cv2.destroyAllWindows()

plt.imshow(img)
plt.show()

#%%
import cv2
import numpy as np
from matplotlib import pyplot as plt

img = cv2.imread('messigray.png',0)
plt.imshow(img,cmap='gray',interpolation='bicubic')
        #'cmap='gray'':颜色图谱为黑白；
        #'interpolation':对图像进行插值操作，抗锯齿程度，见下
# plt.xticks([]),plt.yticks([])
plt.show()