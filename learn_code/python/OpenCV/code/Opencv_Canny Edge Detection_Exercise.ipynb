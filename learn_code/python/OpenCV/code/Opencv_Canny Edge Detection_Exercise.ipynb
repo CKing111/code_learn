{
 "cells": [
  {
   "cell_type": "code",
   "execution_count": 1,
   "metadata": {},
   "outputs": [],
   "source": [
    "import cv2\n",
    "import numpy as np\n",
    "from matplotlib import pyplot as plt\n",
    "\n",
    "# this function is needed for the createTrackbar step downstream\n",
    "def nothing(x):\n",
    "    pass\n",
    "\n",
    "# read the experimental image\n",
    "img = cv2.imread('/home/cxking/python_work/OpenCV/messi1.jpg', 0)\n",
    "\n",
    "# create trackbar for canny edge detection threshold changes\n",
    "cv2.namedWindow('canny')\n",
    "\n",
    "# add ON/OFF switch to \"canny\"\n",
    "switch = '0 : OFF \\n1 : ON'\n",
    "cv2.createTrackbar(switch, 'canny', 0, 1, nothing)\n",
    "\n",
    "# add lower and upper threshold slidebars to \"canny\"\n",
    "cv2.createTrackbar('lower', 'canny', 0, 255, nothing)\n",
    "cv2.createTrackbar('upper', 'canny', 0, 255, nothing)\n",
    "\n",
    "# Infinite loop until we hit the escape key on keyboard\n",
    "while(1):\n",
    "\n",
    "    # get current positions of four trackbars\n",
    "    lower = cv2.getTrackbarPos('lower', 'canny')\n",
    "    upper = cv2.getTrackbarPos('upper', 'canny')\n",
    "    s = cv2.getTrackbarPos(switch, 'canny')\n",
    "\n",
    "    if s == 0:\n",
    "        edges = img\n",
    "    else:\n",
    "        edges = cv2.Canny(img, lower, upper)\n",
    "\n",
    "    # display images\n",
    "    cv2.imshow('original', img)\n",
    "    cv2.imshow('canny', edges)\n",
    "    k = cv2.waitKey(1) & 0xFF\n",
    "    if k == 27:   # hit escape to quit\n",
    "        break\n",
    "\n",
    "cv2.destroyAllWindows()\n"
   ]
  }
 ],
 "metadata": {
  "kernelspec": {
   "display_name": "Python 3",
   "language": "python",
   "name": "python3"
  },
  "language_info": {
   "codemirror_mode": {
    "name": "ipython",
    "version": 3
   },
   "file_extension": ".py",
   "mimetype": "text/x-python",
   "name": "python",
   "nbconvert_exporter": "python",
   "pygments_lexer": "ipython3",
   "version": "3.6.9"
  }
 },
 "nbformat": 4,
 "nbformat_minor": 4
}
