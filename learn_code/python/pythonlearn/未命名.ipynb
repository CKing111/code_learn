{
 "cells": [
  {
   "cell_type": "markdown",
   "metadata": {},
   "source": [
    "# 实现switch "
   ]
  },
  {
   "cell_type": "code",
   "execution_count": 5,
   "metadata": {},
   "outputs": [
    {
     "name": "stdout",
     "output_type": "stream",
     "text": [
      "two\n",
      "None\n"
     ]
    }
   ],
   "source": [
    "# 数字字典功能\n",
    "def mum_to_string(num):\n",
    "    numbers = {\n",
    "        0:'zero',\n",
    "        1:'one',\n",
    "        2:'two',\n",
    "        3:'three',\n",
    "    }\n",
    "    return numbers.get(num,None)\n",
    "if __name__ == '__main__':\n",
    "    print(mum_to_string(2))\n",
    "    print(mum_to_string(5))"
   ]
  },
  {
   "cell_type": "code",
   "execution_count": 1,
   "metadata": {},
   "outputs": [
    {
     "name": "stdout",
     "output_type": "stream",
     "text": [
      "success\n",
      "debug\n",
      "warning\n",
      "error\n",
      "other\n"
     ]
    }
   ],
   "source": [
    "def success(msg):\n",
    "    print(msg)\n",
    "\n",
    "def debug(msg):\n",
    "    print(msg)\n",
    "\n",
    "def error(msg):\n",
    "    print(msg)\n",
    "\n",
    "def warning(msg):\n",
    "    print(msg)\n",
    "\n",
    "def other(msg):\n",
    "    print(msg)\n",
    "\n",
    "def notify_result(num, msg):\n",
    "    numbers = {\n",
    "        0 : success,\n",
    "        1 : debug,\n",
    "        2 : warning,\n",
    "        3 : error\n",
    "    }\n",
    "\n",
    "    method = numbers.get(num, other)\n",
    "    if method:\n",
    "        method(msg)\n",
    "\n",
    "if __name__ == \"__main__\":\n",
    "    notify_result(0, \"success\")\n",
    "    notify_result(1, \"debug\")\n",
    "    notify_result(2, \"warning\")\n",
    "    notify_result(3, \"error\")\n",
    "    notify_result(4, \"other\")"
   ]
  },
  {
   "cell_type": "code",
   "execution_count": 4,
   "metadata": {},
   "outputs": [
    {
     "name": "stdout",
     "output_type": "stream",
     "text": [
      "1\n",
      "2\n",
      "3\n"
     ]
    }
   ],
   "source": [
    "print('''1\n",
    "2\n",
    "3''')"
   ]
  },
  {
   "cell_type": "code",
   "execution_count": 5,
   "metadata": {},
   "outputs": [
    {
     "name": "stdout",
     "output_type": "stream",
     "text": [
      "请输入你的身高(cm):179\n",
      "请输入你的体重(kg):68\n",
      "BMI值为: 21.22, 诊断结果: 正常\n"
     ]
    }
   ],
   "source": [
    "height = input('请输入你的身高(cm):')\n",
    "weight = input('请输入你的体重(kg):')\n",
    "BMI = int(weight) / ((int(height) / 100) ** 2)\n",
    "\n",
    "def getBMIStatus(bmi):\n",
    "  if bmi < 18.5:\n",
    "    return '過轻'\n",
    "  elif bmi >= 18.6 and bmi < 25:\n",
    "    return '正常'\n",
    "  elif bmi >= 25 and bmi < 28:\n",
    "    return '过重'\n",
    "  elif bmi >= 28 and bmi < 32:\n",
    "    return '肥胖'\n",
    "  else:\n",
    "    return '严重肥胖'\n",
    "\n",
    "print(\"BMI值为: %.2f, 诊断结果: %s\" % (BMI, getBMIStatus(BMI)))\n",
    "  "
   ]
  },
  {
   "cell_type": "code",
   "execution_count": 7,
   "metadata": {},
   "outputs": [
    {
     "name": "stdout",
     "output_type": "stream",
     "text": [
      "Michael\n",
      "Bob\n",
      "Tracy\n"
     ]
    }
   ],
   "source": [
    "names = ['Michael', 'Bob', 'Tracy']\n",
    "for name in names:\n",
    "    print(name)\n"
   ]
  },
  {
   "cell_type": "code",
   "execution_count": 15,
   "metadata": {},
   "outputs": [
    {
     "name": "stdout",
     "output_type": "stream",
     "text": [
      "[0, 1, 2, 3, 4, 5, 6, 7, 8, 9, 10, 11, 12, 13, 14, 15, 16, 17, 18, 19, 20, 21, 22, 23, 24, 25, 26, 27, 28, 29, 30, 31, 32, 33, 34, 35, 36, 37, 38, 39, 40, 41, 42, 43, 44, 45, 46, 47, 48, 49, 50, 51, 52, 53, 54, 55, 56, 57, 58, 59, 60, 61, 62, 63, 64, 65, 66, 67, 68, 69, 70, 71, 72, 73, 74, 75, 76, 77, 78, 79, 80, 81, 82, 83, 84, 85, 86, 87, 88, 89, 90, 91, 92, 93, 94, 95, 96, 97, 98, 99, 100] 之和为： 5050\n"
     ]
    }
   ],
   "source": [
    "sum = 0\n",
    "# for x in [1, 2, 3, 4, 5, 6, 7, 8, 9, 10]:\n",
    "for x in list(range(101)):\n",
    "    sum = sum + x\n",
    "print(list(range(101)),'之和为：',sum)"
   ]
  },
  {
   "cell_type": "code",
   "execution_count": 17,
   "metadata": {},
   "outputs": [
    {
     "name": "stdout",
     "output_type": "stream",
     "text": [
      "2500\n"
     ]
    }
   ],
   "source": [
    "# 100以内奇数和\n",
    "sum = 0\n",
    "n = 99\n",
    "while n > 0:\n",
    "    sum = sum + n\n",
    "    n = n - 2\n",
    "print(sum)"
   ]
  },
  {
   "cell_type": "code",
   "execution_count": 22,
   "metadata": {},
   "outputs": [
    {
     "name": "stdout",
     "output_type": "stream",
     "text": [
      "Hellow,Bart\n",
      "Hellow,Lisa\n",
      "Hellow,Adam\n"
     ]
    }
   ],
   "source": [
    "L = ['Bart', 'Lisa', 'Adam']\n",
    "for name in L:\n",
    "    print('Hellow,%s'%name)"
   ]
  },
  {
   "cell_type": "code",
   "execution_count": 24,
   "metadata": {},
   "outputs": [
    {
     "name": "stdout",
     "output_type": "stream",
     "text": [
      "1\n",
      "2\n",
      "3\n",
      "4\n",
      "5\n",
      "6\n",
      "7\n",
      "8\n",
      "9\n",
      "10\n",
      "END\n"
     ]
    }
   ],
   "source": [
    "n = 1\n",
    "while n <= 100:\n",
    "    if n > 10:\n",
    "        break\n",
    "    print(n)\n",
    "    n = n + 1\n",
    "print('END')"
   ]
  },
  {
   "cell_type": "code",
   "execution_count": 26,
   "metadata": {},
   "outputs": [
    {
     "name": "stdout",
     "output_type": "stream",
     "text": [
      "1\n",
      "3\n",
      "5\n",
      "7\n",
      "9\n"
     ]
    }
   ],
   "source": [
    "n = 0\n",
    "while n < 10:\n",
    "    n += 1\n",
    "    if n % 2 == 0:\n",
    "        continue  #达到条件后跳过\n",
    "    print(n)"
   ]
  },
  {
   "cell_type": "code",
   "execution_count": 28,
   "metadata": {},
   "outputs": [
    {
     "name": "stdout",
     "output_type": "stream",
     "text": [
      "The area of a circle with radius 12.34 is 478.4\n",
      "The area of a circle with radius 9.08 is 259.0\n",
      "The area of a circle with radius 73.1 is 16787.4\n"
     ]
    }
   ],
   "source": [
    "#计算圆的面积\n",
    "\n",
    "import math\n",
    "\n",
    "def area_of_circle(r):\n",
    "\n",
    "    if not isinstance(r,(float or int)):\n",
    "\n",
    "        raise TypeError('请输入一个大于0的小数或整数')\n",
    "\n",
    "    elif r<=0:\n",
    "\n",
    "        return '无解'\n",
    "\n",
    "    else:\n",
    "\n",
    "        S=math.pi*r**2\n",
    "\n",
    "        return S\n",
    "\n",
    "R=(12.34,9.08,73.1)\n",
    "\n",
    "i=0\n",
    "\n",
    "for r in R:\n",
    "\n",
    "    s=area_of_circle(r)\n",
    "\n",
    "    print('The area of a circle with radius {0} is {1:.1f}'.format(R[i],s))\n",
    "\n",
    "    i=i+1\n",
    "\n",
    "#运行结果\n",
    "\n",
    "# The area of a circle with radius 12.34 is 478.4\n",
    "\n",
    "# The area of a circle with radius 9.08 is 259.0\n",
    "\n",
    "# The area of a circle with radius 73.1 is 16787.4"
   ]
  },
  {
   "cell_type": "code",
   "execution_count": 32,
   "metadata": {},
   "outputs": [],
   "source": [
    "#绝对值函数\n",
    "def my_abs(x):\n",
    "    if not isinstance(x, (int, float)):\n",
    "        raise TypeError('bad operand type')\n",
    "    if x >= 0:\n",
    "        return x\n",
    "    else:\n",
    "        return -x\n",
    "    \n"
   ]
  },
  {
   "cell_type": "code",
   "execution_count": 10,
   "metadata": {},
   "outputs": [
    {
     "ename": "IndentationError",
     "evalue": "unindent does not match any outer indentation level (<tokenize>, line 9)",
     "output_type": "error",
     "traceback": [
      "\u001b[0;36m  File \u001b[0;32m\"<tokenize>\"\u001b[0;36m, line \u001b[0;32m9\u001b[0m\n\u001b[0;31m    return print(x)\u001b[0m\n\u001b[0m    ^\u001b[0m\n\u001b[0;31mIndentationError\u001b[0m\u001b[0;31m:\u001b[0m unindent does not match any outer indentation level\n"
     ]
    }
   ],
   "source": [
    "import math\n",
    "def quadratic(a,b,c):\n",
    "    if not isinstance(a,b,c,int):\n",
    "        raise TypeError('bad operand type')\n",
    "    elif b**2-4*a*c < 0:\n",
    "        return print('方程无解！')\n",
    "    elif b**2-4*a*c = 0:\n",
    "             x = -b/(2*a)\n",
    "        return print(x)\n",
    "#         elif b**2-4ac > 0:\n",
    "    else:\n",
    "             x1 = (-b+math.sqrt(b**2-4*a*c))/(2*a)\n",
    "             x2 = (-b-math.sqrt(b**2+4*a*c))/(2*a)\n",
    "        return print(x1,x2)\n",
    "        \n",
    "a = int(input('a:'))\n",
    "b = int(input('b:'))\n",
    "c = int(input('c:'))\n",
    "x = quadratic(a,b,c)\n",
    "print(x)"
   ]
  },
  {
   "cell_type": "code",
   "execution_count": 14,
   "metadata": {},
   "outputs": [
    {
     "name": "stdout",
     "output_type": "stream",
     "text": [
      "请输入3个数字(空格分隔)：2 3 5\n",
      "无解\n"
     ]
    }
   ],
   "source": [
    "import math\n",
    "  \n",
    "a,b,c = input(\"请输入3个数字(空格分隔)：\").split()\n",
    "a = float(a)\n",
    "b = float(b)\n",
    "c = float(c)\n",
    "d = (b**2) - (4*a*c)\n",
    "if a==0 and b==0 and c==0 :\n",
    "  print(\"有无穷个解\")\n",
    "elif d >= 0:\n",
    "  x1 = ((-b-d)/(2*a))\n",
    "  x2 = ((-b+d)/(2*a))\n",
    "  print('结果为：%.2f,%.2f'%(x1,x2));\n",
    "else:\n",
    "  print(\"无解\")"
   ]
  },
  {
   "cell_type": "code",
   "execution_count": 3,
   "metadata": {},
   "outputs": [
    {
     "name": "stdout",
     "output_type": "stream",
     "text": [
      "Enter your name:\n",
      "Bob\n",
      "Hi Bob How are you today?\n"
     ]
    }
   ],
   "source": [
    "print('Enter your name:'),\n",
    "somebody = input()\n",
    "print('Hi',somebody,'How are you today?')"
   ]
  },
  {
   "cell_type": "code",
   "execution_count": 5,
   "metadata": {},
   "outputs": [
    {
     "name": "stdout",
     "output_type": "stream",
     "text": [
      "Enter your name1:\n",
      "小凯\n",
      "Enter your name2:\n",
      "崔\n",
      "Hi 崔 小凯 How are you today?\n"
     ]
    }
   ],
   "source": [
    "print('Enter your name1:')\n",
    "name1 = input()\n",
    "print('Enter your name2:')\n",
    "name2 = input()\n",
    "print('Hi',name2,name1,'How are you today?')"
   ]
  },
  {
   "cell_type": "code",
   "execution_count": 10,
   "metadata": {},
   "outputs": [
    {
     "data": {
      "text/plain": [
       "'\\n123\\n'"
      ]
     },
     "execution_count": 10,
     "metadata": {},
     "output_type": "execute_result"
    }
   ],
   "source": [
    "\"\"\"\n",
    "123\n",
    "\"\"\"\n"
   ]
  }
 ],
 "metadata": {
  "kernelspec": {
   "display_name": "Python 3",
   "language": "python",
   "name": "python3"
  },
  "language_info": {
   "codemirror_mode": {
    "name": "ipython",
    "version": 3
   },
   "file_extension": ".py",
   "mimetype": "text/x-python",
   "name": "python",
   "nbconvert_exporter": "python",
   "pygments_lexer": "ipython3",
   "version": "3.6.9"
  }
 },
 "nbformat": 4,
 "nbformat_minor": 4
}
